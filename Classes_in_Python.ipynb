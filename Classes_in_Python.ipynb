{
 "cells": [
  {
   "cell_type": "markdown",
   "id": "standard-pricing",
   "metadata": {},
   "source": [
    "## Classes in Python"
   ]
  },
  {
   "cell_type": "markdown",
   "id": "ordinary-great",
   "metadata": {},
   "source": [
    "Classes are used to create user-defined data structures. Classes define functions called methods, which identify the behaviors and actions that an object created from the class can perform with its data."
   ]
  },
  {
   "cell_type": "code",
   "execution_count": 1,
   "id": "catholic-detroit",
   "metadata": {},
   "outputs": [],
   "source": [
    "# This is a simple class. The convention us to write the name with a capitalized word\n",
    "class Hamster():\n",
    "    pass"
   ]
  },
  {
   "cell_type": "markdown",
   "id": "jewish-south",
   "metadata": {},
   "source": [
    "A class can be defined as a blueprint for how something should be defined. An **instance** is an object that is built from a class and contains real data. Let's create an instance:"
   ]
  },
  {
   "cell_type": "code",
   "execution_count": 2,
   "id": "convenient-mozambique",
   "metadata": {},
   "outputs": [],
   "source": [
    "# The class Hamster is assigned to hamster1\n",
    "hamster1 = Hamster()"
   ]
  },
  {
   "cell_type": "markdown",
   "id": "demonstrated-ghana",
   "metadata": {},
   "source": [
    "If we call that instance, we will see the addresss:"
   ]
  },
  {
   "cell_type": "code",
   "execution_count": 3,
   "id": "loved-technician",
   "metadata": {},
   "outputs": [
    {
     "data": {
      "text/plain": [
       "<__main__.Hamster at 0x7f99575e94a8>"
      ]
     },
     "execution_count": 3,
     "metadata": {},
     "output_type": "execute_result"
    }
   ],
   "source": [
    "hamster1"
   ]
  },
  {
   "cell_type": "markdown",
   "id": "higher-shape",
   "metadata": {},
   "source": [
    "The *__init__* method creates the attributes defined on the object. The first parameter will always be a variable called self. When a new class instance is created, the instance is automatically passed to the self parameter in *__init__* so that new attributes can be defined."
   ]
  },
  {
   "cell_type": "code",
   "execution_count": 4,
   "id": "italic-acquisition",
   "metadata": {},
   "outputs": [],
   "source": [
    "# Now our class will have two attributes, a name and age\n",
    "class Rabbit():\n",
    "    species = 'Oryctolagus domesticus'\n",
    "    def __init__(self, name, age):\n",
    "        self.name = name\n",
    "        self.age = age"
   ]
  },
  {
   "cell_type": "markdown",
   "id": "applicable-flexibility",
   "metadata": {},
   "source": [
    "Attributes created in *__init__* are called instance attributes. *Class attributes* are attributes that have the same value for all class instances. You can define a class attribute by assigning a value to a variable name outside of *__init__* "
   ]
  },
  {
   "cell_type": "markdown",
   "id": "contained-denmark",
   "metadata": {},
   "source": [
    "Let's create a rabbit instance:"
   ]
  },
  {
   "cell_type": "code",
   "execution_count": 5,
   "id": "sixth-comparison",
   "metadata": {},
   "outputs": [],
   "source": [
    "rabbit1 = Rabbit('Bugs',1)"
   ]
  },
  {
   "cell_type": "markdown",
   "id": "auburn-venue",
   "metadata": {},
   "source": [
    "You can access the Rabbit instances attributes using dot notation:"
   ]
  },
  {
   "cell_type": "code",
   "execution_count": 6,
   "id": "peripheral-complex",
   "metadata": {},
   "outputs": [
    {
     "data": {
      "text/plain": [
       "'Bugs'"
      ]
     },
     "execution_count": 6,
     "metadata": {},
     "output_type": "execute_result"
    }
   ],
   "source": [
    "# Grab name\n",
    "rabbit1.name"
   ]
  },
  {
   "cell_type": "code",
   "execution_count": 7,
   "id": "welsh-venezuela",
   "metadata": {},
   "outputs": [
    {
     "data": {
      "text/plain": [
       "1"
      ]
     },
     "execution_count": 7,
     "metadata": {},
     "output_type": "execute_result"
    }
   ],
   "source": [
    "# Grab age\n",
    "rabbit1.age"
   ]
  },
  {
   "cell_type": "code",
   "execution_count": 8,
   "id": "noble-visitor",
   "metadata": {},
   "outputs": [
    {
     "data": {
      "text/plain": [
       "'Oryctolagus domesticus'"
      ]
     },
     "execution_count": 8,
     "metadata": {},
     "output_type": "execute_result"
    }
   ],
   "source": [
    "# Grab class attribute\n",
    "rabbit1.species"
   ]
  },
  {
   "cell_type": "markdown",
   "id": "strategic-basic",
   "metadata": {},
   "source": [
    "You can change the attributes dynamically:"
   ]
  },
  {
   "cell_type": "code",
   "execution_count": 9,
   "id": "atmospheric-genius",
   "metadata": {},
   "outputs": [
    {
     "data": {
      "text/plain": [
       "'Oswald'"
      ]
     },
     "execution_count": 9,
     "metadata": {},
     "output_type": "execute_result"
    }
   ],
   "source": [
    "rabbit1.name = 'Oswald'\n",
    "rabbit1.name"
   ]
  },
  {
   "cell_type": "markdown",
   "id": "neither-danish",
   "metadata": {},
   "source": [
    "### Instance methods"
   ]
  },
  {
   "cell_type": "markdown",
   "id": "decimal-attribute",
   "metadata": {},
   "source": [
    "**Instance methods** are functions that are defined inside a class and can only be called from an instance of that class. An instance method's first parameter is always *self*"
   ]
  },
  {
   "cell_type": "code",
   "execution_count": 10,
   "id": "floating-redhead",
   "metadata": {},
   "outputs": [],
   "source": [
    "# Let's create a dog class, and add methods to describe the name and age, and to make the object \"speak\"\n",
    "class Dog():\n",
    "    species = 'Canis familiaris'\n",
    "    \n",
    "    def __init__(self, name, age):\n",
    "        self.name = name\n",
    "        self.age = age\n",
    "    \n",
    "    def description(self):\n",
    "        return f\"{self.name} is {self.age} years old\"\n",
    "    \n",
    "    def speak(self, sound):\n",
    "        return f\"{self.name} says {sound}\""
   ]
  },
  {
   "cell_type": "markdown",
   "id": "copyrighted-parish",
   "metadata": {},
   "source": [
    "We can create an instance and assign a name and age:"
   ]
  },
  {
   "cell_type": "code",
   "execution_count": 11,
   "id": "urban-packaging",
   "metadata": {},
   "outputs": [],
   "source": [
    "dog1 = Dog('Snoopy',2)"
   ]
  },
  {
   "cell_type": "markdown",
   "id": "legendary-genetics",
   "metadata": {},
   "source": [
    "We can call the description method:"
   ]
  },
  {
   "cell_type": "code",
   "execution_count": 12,
   "id": "close-harvey",
   "metadata": {},
   "outputs": [
    {
     "data": {
      "text/plain": [
       "'Snoopy is 2 years old'"
      ]
     },
     "execution_count": 12,
     "metadata": {},
     "output_type": "execute_result"
    }
   ],
   "source": [
    "dog1.description()"
   ]
  },
  {
   "cell_type": "markdown",
   "id": "powerful-spain",
   "metadata": {},
   "source": [
    "And we can make our dog \"speak\":"
   ]
  },
  {
   "cell_type": "code",
   "execution_count": 13,
   "id": "funny-eagle",
   "metadata": {},
   "outputs": [
    {
     "data": {
      "text/plain": [
       "'Snoopy says bark bark'"
      ]
     },
     "execution_count": 13,
     "metadata": {},
     "output_type": "execute_result"
    }
   ],
   "source": [
    "dog1.speak('bark bark')"
   ]
  },
  {
   "cell_type": "markdown",
   "id": "short-petersburg",
   "metadata": {},
   "source": [
    "We see that *.description()* returns a string containing information about the *Dog* instance *dog1*, but we can use print() to display a string-like list. We will use a special instance method called *__str__()* "
   ]
  },
  {
   "cell_type": "code",
   "execution_count": 24,
   "id": "juvenile-return",
   "metadata": {},
   "outputs": [],
   "source": [
    "class Dog():\n",
    "    species = 'Canis familiaris'\n",
    "    \n",
    "    def __init__(self, name, age, breed):\n",
    "        self.name = name\n",
    "        self.age = age\n",
    "        self.breed = breed\n",
    "        \n",
    "    def speak(self,sound):\n",
    "        return f\"{self.name} says {sound}\"\n",
    "    \n",
    "    def __str__(self):\n",
    "        return f\"{self.name}, a {self.breed} is {self.age}\""
   ]
  },
  {
   "cell_type": "code",
   "execution_count": 25,
   "id": "connected-leadership",
   "metadata": {},
   "outputs": [],
   "source": [
    "dog2 = Dog('Rin Tin Tin',104,'German Sheperd')"
   ]
  },
  {
   "cell_type": "code",
   "execution_count": 26,
   "id": "taken-zealand",
   "metadata": {},
   "outputs": [
    {
     "name": "stdout",
     "output_type": "stream",
     "text": [
      "Rin Tin Tin, a German Sheperd is 104\n"
     ]
    }
   ],
   "source": [
    "print(dog2)"
   ]
  },
  {
   "cell_type": "code",
   "execution_count": null,
   "id": "affecting-pearl",
   "metadata": {},
   "outputs": [],
   "source": []
  }
 ],
 "metadata": {
  "kernelspec": {
   "display_name": "Python 3",
   "language": "python",
   "name": "python3"
  },
  "language_info": {
   "codemirror_mode": {
    "name": "ipython",
    "version": 3
   },
   "file_extension": ".py",
   "mimetype": "text/x-python",
   "name": "python",
   "nbconvert_exporter": "python",
   "pygments_lexer": "ipython3",
   "version": "3.6.13"
  }
 },
 "nbformat": 4,
 "nbformat_minor": 5
}
