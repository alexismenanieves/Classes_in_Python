{
 "cells": [
  {
   "cell_type": "markdown",
   "id": "variable-links",
   "metadata": {},
   "source": [
    "## Classes in Python"
   ]
  },
  {
   "cell_type": "markdown",
   "id": "sonic-poland",
   "metadata": {},
   "source": [
    "Classes are used to create user-defined data structures. Classes define functions called methods, which identify the behaviors and actions that an object created from the class can perform with its data."
   ]
  },
  {
   "cell_type": "code",
   "execution_count": 1,
   "id": "handed-english",
   "metadata": {},
   "outputs": [],
   "source": [
    "# This is a simple class. The convention us to write the name with a capitalized word\n",
    "class Hamster():\n",
    "    pass"
   ]
  },
  {
   "cell_type": "markdown",
   "id": "confirmed-optics",
   "metadata": {},
   "source": [
    "A class can be defined as a blueprint for how something should be defined. An **instance** is an object that is built from a class and contains real data. Let's create an instance:"
   ]
  },
  {
   "cell_type": "code",
   "execution_count": 2,
   "id": "intended-referral",
   "metadata": {},
   "outputs": [],
   "source": [
    "# The class Hamster is assigned to hamster1\n",
    "hamster1 = Hamster()"
   ]
  },
  {
   "cell_type": "markdown",
   "id": "serial-credits",
   "metadata": {},
   "source": [
    "If we call that instance, we will see the addresss:"
   ]
  },
  {
   "cell_type": "code",
   "execution_count": 3,
   "id": "parental-mouse",
   "metadata": {},
   "outputs": [
    {
     "data": {
      "text/plain": [
       "<__main__.Hamster at 0x7f99575e94a8>"
      ]
     },
     "execution_count": 3,
     "metadata": {},
     "output_type": "execute_result"
    }
   ],
   "source": [
    "hamster1"
   ]
  },
  {
   "cell_type": "markdown",
   "id": "bibliographic-gregory",
   "metadata": {},
   "source": [
    "The *__init__* method creates the attributes defined on the object. The first parameter will always be a variable called self. When a new class instance is created, the instance is automatically passed to the self parameter in *__init__* so that new attributes can be defined."
   ]
  },
  {
   "cell_type": "code",
   "execution_count": 4,
   "id": "demographic-depth",
   "metadata": {},
   "outputs": [],
   "source": [
    "# Now our class will have two attributes, a name and age\n",
    "class Rabbit():\n",
    "    species = 'Oryctolagus domesticus'\n",
    "    def __init__(self, name, age):\n",
    "        self.name = name\n",
    "        self.age = age"
   ]
  },
  {
   "cell_type": "markdown",
   "id": "ranking-artwork",
   "metadata": {},
   "source": [
    "Attributes created in *__init__* are called instance attributes. *Class attributes* are attributes that have the same value for all class instances. You can define a class attribute by assigning a value to a variable name outside of *__init__* "
   ]
  },
  {
   "cell_type": "markdown",
   "id": "correct-illinois",
   "metadata": {},
   "source": [
    "Let's create a rabbit instance:"
   ]
  },
  {
   "cell_type": "code",
   "execution_count": 5,
   "id": "harmful-morocco",
   "metadata": {},
   "outputs": [],
   "source": [
    "rabbit1 = Rabbit('Bugs',1)"
   ]
  },
  {
   "cell_type": "markdown",
   "id": "sought-phrase",
   "metadata": {},
   "source": [
    "You can access the Rabbit instances attributes using dot notation:"
   ]
  },
  {
   "cell_type": "code",
   "execution_count": 6,
   "id": "certain-check",
   "metadata": {},
   "outputs": [
    {
     "data": {
      "text/plain": [
       "'Bugs'"
      ]
     },
     "execution_count": 6,
     "metadata": {},
     "output_type": "execute_result"
    }
   ],
   "source": [
    "# Grab name\n",
    "rabbit1.name"
   ]
  },
  {
   "cell_type": "code",
   "execution_count": 7,
   "id": "equipped-scott",
   "metadata": {},
   "outputs": [
    {
     "data": {
      "text/plain": [
       "1"
      ]
     },
     "execution_count": 7,
     "metadata": {},
     "output_type": "execute_result"
    }
   ],
   "source": [
    "# Grab age\n",
    "rabbit1.age"
   ]
  },
  {
   "cell_type": "code",
   "execution_count": 8,
   "id": "literary-collins",
   "metadata": {},
   "outputs": [
    {
     "data": {
      "text/plain": [
       "'Oryctolagus domesticus'"
      ]
     },
     "execution_count": 8,
     "metadata": {},
     "output_type": "execute_result"
    }
   ],
   "source": [
    "# Grab class attribute\n",
    "rabbit1.species"
   ]
  },
  {
   "cell_type": "markdown",
   "id": "global-procedure",
   "metadata": {},
   "source": [
    "You can change the attributes dynamically:"
   ]
  },
  {
   "cell_type": "code",
   "execution_count": 9,
   "id": "automatic-shame",
   "metadata": {},
   "outputs": [
    {
     "data": {
      "text/plain": [
       "'Oswald'"
      ]
     },
     "execution_count": 9,
     "metadata": {},
     "output_type": "execute_result"
    }
   ],
   "source": [
    "rabbit1.name = 'Oswald'\n",
    "rabbit1.name"
   ]
  },
  {
   "cell_type": "markdown",
   "id": "restricted-engineering",
   "metadata": {},
   "source": [
    "### Instance methods"
   ]
  },
  {
   "cell_type": "markdown",
   "id": "cultural-monitor",
   "metadata": {},
   "source": [
    "**Instance methods** are functions that are defined inside a class and can only be called from an instance of that class. An instance method's first parameter is always *self*"
   ]
  },
  {
   "cell_type": "code",
   "execution_count": 10,
   "id": "cutting-archive",
   "metadata": {},
   "outputs": [],
   "source": [
    "# Let's create a dog class, and add methods to describe the name and age, and to make the object \"speak\"\n",
    "class Dog():\n",
    "    species = 'Canis familiaris'\n",
    "    \n",
    "    def __init__(self, name, age):\n",
    "        self.name = name\n",
    "        self.age = age\n",
    "    \n",
    "    def description(self):\n",
    "        return f\"{self.name} is {self.age} years old\"\n",
    "    \n",
    "    def speak(self, sound):\n",
    "        return f\"{self.name} says {sound}\""
   ]
  },
  {
   "cell_type": "markdown",
   "id": "vertical-portland",
   "metadata": {},
   "source": [
    "We can create an instance and assign a name and age:"
   ]
  },
  {
   "cell_type": "code",
   "execution_count": 11,
   "id": "favorite-system",
   "metadata": {},
   "outputs": [],
   "source": [
    "dog1 = Dog('Snoopy',2)"
   ]
  },
  {
   "cell_type": "markdown",
   "id": "blond-census",
   "metadata": {},
   "source": [
    "We can call the description method:"
   ]
  },
  {
   "cell_type": "code",
   "execution_count": 12,
   "id": "tamil-testament",
   "metadata": {},
   "outputs": [
    {
     "data": {
      "text/plain": [
       "'Snoopy is 2 years old'"
      ]
     },
     "execution_count": 12,
     "metadata": {},
     "output_type": "execute_result"
    }
   ],
   "source": [
    "dog1.description()"
   ]
  },
  {
   "cell_type": "markdown",
   "id": "orange-inspiration",
   "metadata": {},
   "source": [
    "And we can make our dog \"speak\":"
   ]
  },
  {
   "cell_type": "code",
   "execution_count": 13,
   "id": "imported-genius",
   "metadata": {},
   "outputs": [
    {
     "data": {
      "text/plain": [
       "'Snoopy says bark bark'"
      ]
     },
     "execution_count": 13,
     "metadata": {},
     "output_type": "execute_result"
    }
   ],
   "source": [
    "dog1.speak('bark bark')"
   ]
  }
 ],
 "metadata": {
  "kernelspec": {
   "display_name": "Python 3",
   "language": "python",
   "name": "python3"
  },
  "language_info": {
   "codemirror_mode": {
    "name": "ipython",
    "version": 3
   },
   "file_extension": ".py",
   "mimetype": "text/x-python",
   "name": "python",
   "nbconvert_exporter": "python",
   "pygments_lexer": "ipython3",
   "version": "3.6.13"
  }
 },
 "nbformat": 4,
 "nbformat_minor": 5
}
