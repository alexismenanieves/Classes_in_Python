{
 "cells": [
  {
   "cell_type": "markdown",
   "id": "dietary-fishing",
   "metadata": {},
   "source": [
    "## Classes in Python"
   ]
  },
  {
   "cell_type": "markdown",
   "id": "bigger-server",
   "metadata": {},
   "source": [
    "Classes are used to create user-defined data structures. Classes define functions called methods, which identify the behaviors and actions that an object created from the class can perform with its data."
   ]
  },
  {
   "cell_type": "code",
   "execution_count": 1,
   "id": "varied-equity",
   "metadata": {},
   "outputs": [],
   "source": [
    "# This is a simple class. The convention us to write the name with a capitalized word\n",
    "class Hamster():\n",
    "    pass"
   ]
  },
  {
   "cell_type": "markdown",
   "id": "little-governor",
   "metadata": {},
   "source": [
    "A class can be defined as a blueprint for how something should be defined. An **instance** is an object that is built from a class and contains real data. Let's create an instance:"
   ]
  },
  {
   "cell_type": "code",
   "execution_count": 2,
   "id": "simplified-northwest",
   "metadata": {},
   "outputs": [],
   "source": [
    "# The class Hamster is assigned to hamster1\n",
    "hamster1 = Hamster()"
   ]
  },
  {
   "cell_type": "markdown",
   "id": "respected-folder",
   "metadata": {},
   "source": [
    "If we call that instance, we will see the addresss:"
   ]
  },
  {
   "cell_type": "code",
   "execution_count": 3,
   "id": "refined-xerox",
   "metadata": {},
   "outputs": [
    {
     "data": {
      "text/plain": [
       "<__main__.Hamster at 0x7fc9c8de9940>"
      ]
     },
     "execution_count": 3,
     "metadata": {},
     "output_type": "execute_result"
    }
   ],
   "source": [
    "# Just type the name of the instance\n",
    "hamster1"
   ]
  },
  {
   "cell_type": "markdown",
   "id": "republican-disaster",
   "metadata": {},
   "source": [
    "The *__init__* method creates the attributes defined on the object. The first parameter will always be a variable called self. When a new class instance is created, the instance is automatically passed to the self parameter in *__init__* so that new attributes can be defined."
   ]
  },
  {
   "cell_type": "code",
   "execution_count": 4,
   "id": "understanding-picture",
   "metadata": {},
   "outputs": [],
   "source": [
    "# Now our class will have two attributes, a name and age\n",
    "class Rabbit():\n",
    "    species = 'Oryctolagus domesticus'\n",
    "    def __init__(self, name, age):\n",
    "        self.name = name\n",
    "        self.age = age"
   ]
  },
  {
   "cell_type": "markdown",
   "id": "blond-vault",
   "metadata": {},
   "source": [
    "Attributes created in *__init__* are called instance attributes. *Class attributes* are attributes that have the same value for all class instances. You can define a class attribute by assigning a value to a variable name outside of *__init__* "
   ]
  },
  {
   "cell_type": "markdown",
   "id": "related-press",
   "metadata": {},
   "source": [
    "Let's create a rabbit instance:"
   ]
  },
  {
   "cell_type": "code",
   "execution_count": 5,
   "id": "directed-dispatch",
   "metadata": {},
   "outputs": [],
   "source": [
    "rabbit1 = Rabbit('Bugs',1)"
   ]
  },
  {
   "cell_type": "markdown",
   "id": "linear-advocate",
   "metadata": {},
   "source": [
    "You can access the Rabbit instances attributes using dot notation:"
   ]
  },
  {
   "cell_type": "code",
   "execution_count": 6,
   "id": "extreme-bones",
   "metadata": {},
   "outputs": [
    {
     "data": {
      "text/plain": [
       "'Bugs'"
      ]
     },
     "execution_count": 6,
     "metadata": {},
     "output_type": "execute_result"
    }
   ],
   "source": [
    "# Grab name\n",
    "rabbit1.name"
   ]
  },
  {
   "cell_type": "code",
   "execution_count": 7,
   "id": "streaming-regression",
   "metadata": {},
   "outputs": [
    {
     "data": {
      "text/plain": [
       "1"
      ]
     },
     "execution_count": 7,
     "metadata": {},
     "output_type": "execute_result"
    }
   ],
   "source": [
    "# Grab age\n",
    "rabbit1.age"
   ]
  },
  {
   "cell_type": "code",
   "execution_count": 8,
   "id": "ancient-wealth",
   "metadata": {},
   "outputs": [
    {
     "data": {
      "text/plain": [
       "'Oryctolagus domesticus'"
      ]
     },
     "execution_count": 8,
     "metadata": {},
     "output_type": "execute_result"
    }
   ],
   "source": [
    "# Grab class attribute\n",
    "rabbit1.species"
   ]
  },
  {
   "cell_type": "markdown",
   "id": "elect-labor",
   "metadata": {},
   "source": [
    "You can change the attributes dynamically:"
   ]
  },
  {
   "cell_type": "code",
   "execution_count": 9,
   "id": "accurate-tobacco",
   "metadata": {},
   "outputs": [
    {
     "data": {
      "text/plain": [
       "'Oswald'"
      ]
     },
     "execution_count": 9,
     "metadata": {},
     "output_type": "execute_result"
    }
   ],
   "source": [
    "rabbit1.name = 'Oswald'\n",
    "rabbit1.name"
   ]
  },
  {
   "cell_type": "markdown",
   "id": "accompanied-mouth",
   "metadata": {},
   "source": [
    "### Instance methods"
   ]
  },
  {
   "cell_type": "markdown",
   "id": "analyzed-wealth",
   "metadata": {},
   "source": [
    "**Instance methods** are functions that are defined inside a class and can only be called from an instance of that class. An instance method's first parameter is always *self*"
   ]
  },
  {
   "cell_type": "code",
   "execution_count": 10,
   "id": "previous-costume",
   "metadata": {},
   "outputs": [],
   "source": [
    "# Let's create a dog class, and add methods to describe the name and age, and to make the object \"speak\"\n",
    "class Dog():\n",
    "    species = 'Canis familiaris'\n",
    "    \n",
    "    def __init__(self, name, age):\n",
    "        self.name = name\n",
    "        self.age = age\n",
    "    \n",
    "    def description(self):\n",
    "        return f\"{self.name} is {self.age} years old\"\n",
    "    \n",
    "    def speak(self, sound):\n",
    "        return f\"{self.name} says {sound}\""
   ]
  },
  {
   "cell_type": "markdown",
   "id": "signal-series",
   "metadata": {},
   "source": [
    "We can create an instance and assign a name and age:"
   ]
  },
  {
   "cell_type": "code",
   "execution_count": 11,
   "id": "naval-destruction",
   "metadata": {},
   "outputs": [],
   "source": [
    "dog1 = Dog('Snoopy',2)"
   ]
  },
  {
   "cell_type": "markdown",
   "id": "synthetic-consideration",
   "metadata": {},
   "source": [
    "We can call the description method:"
   ]
  },
  {
   "cell_type": "code",
   "execution_count": 12,
   "id": "described-salad",
   "metadata": {},
   "outputs": [
    {
     "data": {
      "text/plain": [
       "'Snoopy is 2 years old'"
      ]
     },
     "execution_count": 12,
     "metadata": {},
     "output_type": "execute_result"
    }
   ],
   "source": [
    "dog1.description()"
   ]
  },
  {
   "cell_type": "markdown",
   "id": "anonymous-export",
   "metadata": {},
   "source": [
    "And we can make our dog \"speak\":"
   ]
  },
  {
   "cell_type": "code",
   "execution_count": 13,
   "id": "special-width",
   "metadata": {},
   "outputs": [
    {
     "data": {
      "text/plain": [
       "'Snoopy says bark bark'"
      ]
     },
     "execution_count": 13,
     "metadata": {},
     "output_type": "execute_result"
    }
   ],
   "source": [
    "dog1.speak('bark bark')"
   ]
  },
  {
   "cell_type": "markdown",
   "id": "geographic-doctor",
   "metadata": {},
   "source": [
    "We see that *.description()* returns a string containing information about the *Dog* instance *dog1*, but we can use print() to display a string-like list. We will use a special instance method called *__str__()* "
   ]
  },
  {
   "cell_type": "code",
   "execution_count": 16,
   "id": "nutritional-denial",
   "metadata": {},
   "outputs": [],
   "source": [
    "class Dog():\n",
    "    species = 'Canis familiaris'\n",
    "    \n",
    "    def __init__(self, name, age, state):\n",
    "        self.name = name\n",
    "        self.age = age\n",
    "        self.state = state\n",
    "        \n",
    "    def speak(self,sound):\n",
    "        return f\"{self.name} says {sound}\"\n",
    "    \n",
    "    def __str__(self):\n",
    "        return f\"{self.name}, a {self.state} dog is {self.age} years old\""
   ]
  },
  {
   "cell_type": "code",
   "execution_count": 17,
   "id": "running-surgery",
   "metadata": {},
   "outputs": [
    {
     "name": "stdout",
     "output_type": "stream",
     "text": [
      "Rin Tin Tin, a trained dog is 103\n"
     ]
    }
   ],
   "source": [
    "dog2 = Dog('Rin Tin Tin',103,'trained')\n",
    "print(dog2)"
   ]
  },
  {
   "cell_type": "markdown",
   "id": "northern-teacher",
   "metadata": {},
   "source": [
    "Methods like __init__ and __str__ are called **dunder_methods** because they begin and end with double underscores. "
   ]
  },
  {
   "cell_type": "markdown",
   "id": "noticed-manitoba",
   "metadata": {},
   "source": [
    "### Inheritance"
   ]
  },
  {
   "cell_type": "markdown",
   "id": "educated-passion",
   "metadata": {},
   "source": [
    "**Inheritance** is the process by which one class takes on the attributes and methods of another. New formed classes are called **child classes**, and the classes that generates are called **parent classes**. Child classes can override or extend the attributes and methods of parent classes. \n",
    "\n",
    "Let's extend our base class **Dog()** and add a new class associated to breed: "
   ]
  },
  {
   "cell_type": "code",
   "execution_count": null,
   "id": "recovered-gambling",
   "metadata": {},
   "outputs": [],
   "source": [
    "class GermanShepher(Dog):\n",
    "    pass\n",
    "\n",
    "class Dachshund(Dog):\n",
    "    pass\n",
    "\n",
    "class Bulldog(Dog):\n",
    "    pass\n",
    "\n"
   ]
  }
 ],
 "metadata": {
  "kernelspec": {
   "display_name": "Python 3",
   "language": "python",
   "name": "python3"
  },
  "language_info": {
   "codemirror_mode": {
    "name": "ipython",
    "version": 3
   },
   "file_extension": ".py",
   "mimetype": "text/x-python",
   "name": "python",
   "nbconvert_exporter": "python",
   "pygments_lexer": "ipython3",
   "version": "3.6.13"
  }
 },
 "nbformat": 4,
 "nbformat_minor": 5
}
