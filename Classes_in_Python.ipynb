{
 "cells": [
  {
   "cell_type": "markdown",
   "id": "yellow-reducing",
   "metadata": {},
   "source": [
    "## Classes in Python"
   ]
  },
  {
   "cell_type": "markdown",
   "id": "compatible-greene",
   "metadata": {},
   "source": [
    "Classes are used to create user-defined data structures. Classes define functions called methods, which identify the behaviors and actions that an object created from the class can perform with its data."
   ]
  },
  {
   "cell_type": "code",
   "execution_count": 1,
   "id": "statistical-prayer",
   "metadata": {},
   "outputs": [],
   "source": [
    "# This is a simple class. The convention us to write the name with a capitalized word\n",
    "class Hamster():\n",
    "    pass"
   ]
  },
  {
   "cell_type": "markdown",
   "id": "protective-sitting",
   "metadata": {},
   "source": [
    "A class can be defined as a blueprint for how something should be defined. An **instance** is an object that is built from a class and contains real data. Let's create an instance:"
   ]
  },
  {
   "cell_type": "code",
   "execution_count": 2,
   "id": "oriental-possession",
   "metadata": {},
   "outputs": [],
   "source": [
    "# The class Hamster is assigned to hamster1\n",
    "hamster1 = Hamster()"
   ]
  },
  {
   "cell_type": "markdown",
   "id": "sixth-spectrum",
   "metadata": {},
   "source": [
    "If we call that instance, we will see the addresss:"
   ]
  },
  {
   "cell_type": "code",
   "execution_count": 3,
   "id": "oriented-sapphire",
   "metadata": {},
   "outputs": [
    {
     "data": {
      "text/plain": [
       "<__main__.Hamster at 0x7fc5136e9828>"
      ]
     },
     "execution_count": 3,
     "metadata": {},
     "output_type": "execute_result"
    }
   ],
   "source": [
    "# Just type the name of the instance\n",
    "hamster1"
   ]
  },
  {
   "cell_type": "markdown",
   "id": "invalid-serve",
   "metadata": {},
   "source": [
    "The *__init__* method creates the attributes defined on the object. The first parameter will always be a variable called self. When a new class instance is created, the instance is automatically passed to the self parameter in *\\__init__* so that new attributes can be defined."
   ]
  },
  {
   "cell_type": "code",
   "execution_count": 4,
   "id": "vulnerable-jason",
   "metadata": {},
   "outputs": [],
   "source": [
    "# Now our class will have two attributes, a name and age\n",
    "class Rabbit():\n",
    "    species = 'Oryctolagus domesticus'\n",
    "    def __init__(self, name, age):\n",
    "        self.name = name\n",
    "        self.age = age"
   ]
  },
  {
   "cell_type": "markdown",
   "id": "solid-integral",
   "metadata": {},
   "source": [
    "Attributes created in *__init__* are called instance attributes. *Class attributes* are attributes that have the same value for all class instances. You can define a class attribute by assigning a value to a variable name outside of *\\__init__* "
   ]
  },
  {
   "cell_type": "markdown",
   "id": "alleged-heaven",
   "metadata": {},
   "source": [
    "Let's create a rabbit instance:"
   ]
  },
  {
   "cell_type": "code",
   "execution_count": 5,
   "id": "empirical-filter",
   "metadata": {},
   "outputs": [],
   "source": [
    "rabbit1 = Rabbit('Bugs',1)"
   ]
  },
  {
   "cell_type": "markdown",
   "id": "established-uganda",
   "metadata": {},
   "source": [
    "You can access the Rabbit instances attributes using dot notation:"
   ]
  },
  {
   "cell_type": "code",
   "execution_count": 6,
   "id": "aerial-hardware",
   "metadata": {},
   "outputs": [
    {
     "data": {
      "text/plain": [
       "'Bugs'"
      ]
     },
     "execution_count": 6,
     "metadata": {},
     "output_type": "execute_result"
    }
   ],
   "source": [
    "# Grab name\n",
    "rabbit1.name"
   ]
  },
  {
   "cell_type": "code",
   "execution_count": 7,
   "id": "german-ballet",
   "metadata": {},
   "outputs": [
    {
     "data": {
      "text/plain": [
       "1"
      ]
     },
     "execution_count": 7,
     "metadata": {},
     "output_type": "execute_result"
    }
   ],
   "source": [
    "# Grab age\n",
    "rabbit1.age"
   ]
  },
  {
   "cell_type": "code",
   "execution_count": 8,
   "id": "north-vegetable",
   "metadata": {},
   "outputs": [
    {
     "data": {
      "text/plain": [
       "'Oryctolagus domesticus'"
      ]
     },
     "execution_count": 8,
     "metadata": {},
     "output_type": "execute_result"
    }
   ],
   "source": [
    "# Grab class attribute\n",
    "rabbit1.species"
   ]
  },
  {
   "cell_type": "markdown",
   "id": "chubby-factor",
   "metadata": {},
   "source": [
    "You can change the attributes dynamically:"
   ]
  },
  {
   "cell_type": "code",
   "execution_count": 9,
   "id": "lined-cookbook",
   "metadata": {},
   "outputs": [
    {
     "data": {
      "text/plain": [
       "'Oswald'"
      ]
     },
     "execution_count": 9,
     "metadata": {},
     "output_type": "execute_result"
    }
   ],
   "source": [
    "rabbit1.name = 'Oswald'\n",
    "rabbit1.name"
   ]
  },
  {
   "cell_type": "markdown",
   "id": "authentic-intake",
   "metadata": {},
   "source": [
    "### Instance methods"
   ]
  },
  {
   "cell_type": "markdown",
   "id": "aware-excellence",
   "metadata": {},
   "source": [
    "**Instance methods** are functions that are defined inside a class and can only be called from an instance of that class. An instance method's first parameter is always *self*"
   ]
  },
  {
   "cell_type": "code",
   "execution_count": 10,
   "id": "pressing-blank",
   "metadata": {},
   "outputs": [],
   "source": [
    "# Let's create a dog class, and add methods to describe the name and age, and to make the object \"speak\"\n",
    "class Dog():\n",
    "    species = 'Canis familiaris'\n",
    "    \n",
    "    def __init__(self, name, age):\n",
    "        self.name = name\n",
    "        self.age = age\n",
    "    \n",
    "    def description(self):\n",
    "        return f\"{self.name} is {self.age} years old\"\n",
    "    \n",
    "    def speak(self, sound):\n",
    "        return f\"{self.name} says {sound}\""
   ]
  },
  {
   "cell_type": "markdown",
   "id": "adopted-creator",
   "metadata": {},
   "source": [
    "We can create an instance and assign a name and age:"
   ]
  },
  {
   "cell_type": "code",
   "execution_count": 11,
   "id": "loved-guitar",
   "metadata": {},
   "outputs": [],
   "source": [
    "dog1 = Dog('Snoopy',2)"
   ]
  },
  {
   "cell_type": "markdown",
   "id": "daily-elephant",
   "metadata": {},
   "source": [
    "We can call the description method:"
   ]
  },
  {
   "cell_type": "code",
   "execution_count": 12,
   "id": "southwest-opportunity",
   "metadata": {},
   "outputs": [
    {
     "data": {
      "text/plain": [
       "'Snoopy is 2 years old'"
      ]
     },
     "execution_count": 12,
     "metadata": {},
     "output_type": "execute_result"
    }
   ],
   "source": [
    "dog1.description()"
   ]
  },
  {
   "cell_type": "markdown",
   "id": "headed-usage",
   "metadata": {},
   "source": [
    "And we can make our dog \"speak\":"
   ]
  },
  {
   "cell_type": "code",
   "execution_count": 13,
   "id": "sized-tennis",
   "metadata": {},
   "outputs": [
    {
     "data": {
      "text/plain": [
       "'Snoopy says bark bark'"
      ]
     },
     "execution_count": 13,
     "metadata": {},
     "output_type": "execute_result"
    }
   ],
   "source": [
    "dog1.speak('bark bark')"
   ]
  },
  {
   "cell_type": "markdown",
   "id": "handy-tribe",
   "metadata": {},
   "source": [
    "We see that *.description()* returns a string containing information about the *Dog* instance *dog1*, but we can use print() to display a string-like list. We will use a special instance method called *\\__str__()* "
   ]
  },
  {
   "cell_type": "code",
   "execution_count": 14,
   "id": "deluxe-incidence",
   "metadata": {},
   "outputs": [],
   "source": [
    "class Dog():\n",
    "    species = 'Canis familiaris'\n",
    "    \n",
    "    def __init__(self, name, age, state):\n",
    "        self.name = name\n",
    "        self.age = age\n",
    "        self.state = state\n",
    "        \n",
    "    def speak(self,sound):\n",
    "        return f\"{self.name} says {sound}\"\n",
    "    \n",
    "    def __str__(self):\n",
    "        return f\"{self.name}, a {self.state} dog is {self.age} years old\""
   ]
  },
  {
   "cell_type": "code",
   "execution_count": 15,
   "id": "dominant-latin",
   "metadata": {},
   "outputs": [
    {
     "name": "stdout",
     "output_type": "stream",
     "text": [
      "Rin Tin Tin, a trained dog is 103 years old\n"
     ]
    }
   ],
   "source": [
    "dog2 = Dog('Rin Tin Tin',103,'trained')\n",
    "print(dog2)"
   ]
  },
  {
   "cell_type": "markdown",
   "id": "wicked-career",
   "metadata": {},
   "source": [
    "Methods like \\__init__ and \\__str__ are called **dunder_methods** because they begin and end with double underscores. "
   ]
  },
  {
   "cell_type": "markdown",
   "id": "potential-watershed",
   "metadata": {},
   "source": [
    "### Inheritance"
   ]
  },
  {
   "cell_type": "markdown",
   "id": "middle-moisture",
   "metadata": {},
   "source": [
    "**Inheritance** is the process by which one class takes on the attributes and methods of another. New formed classes are called **child classes**, and the classes that generates are called **parent classes**. Child classes can override or extend the attributes and methods of parent classes. \n",
    "\n",
    "Let's extend our base class **Dog()** and add a new class associated to breed: "
   ]
  },
  {
   "cell_type": "code",
   "execution_count": 16,
   "id": "expensive-peter",
   "metadata": {},
   "outputs": [],
   "source": [
    "class GermanShepherd(Dog):\n",
    "    pass\n",
    "\n",
    "class Dachshund(Dog):\n",
    "    pass\n",
    "\n",
    "class Bulldog(Dog):\n",
    "    pass\n",
    "\n",
    "dog1 = GermanShepherd('Rin Tin Tin',103,'trained')\n",
    "dog2 = Dachshund('JPD',5,'untrained')\n",
    "dog3 = Bulldog('Butkus',45,'trained')"
   ]
  },
  {
   "cell_type": "markdown",
   "id": "alleged-cooperation",
   "metadata": {},
   "source": [
    "Instances of child classes inherit all of the attributes of the parent class:"
   ]
  },
  {
   "cell_type": "code",
   "execution_count": 17,
   "id": "behavioral-neighbor",
   "metadata": {},
   "outputs": [
    {
     "data": {
      "text/plain": [
       "'trained'"
      ]
     },
     "execution_count": 17,
     "metadata": {},
     "output_type": "execute_result"
    }
   ],
   "source": [
    "dog3.state"
   ]
  },
  {
   "cell_type": "code",
   "execution_count": 18,
   "id": "grateful-rainbow",
   "metadata": {},
   "outputs": [
    {
     "data": {
      "text/plain": [
       "'JPD says Woof'"
      ]
     },
     "execution_count": 18,
     "metadata": {},
     "output_type": "execute_result"
    }
   ],
   "source": [
    "dog2.speak('Woof')"
   ]
  },
  {
   "cell_type": "markdown",
   "id": "intermediate-aerospace",
   "metadata": {},
   "source": [
    "To determine which class a given object belongs to, you can use the built-in *type()* function: "
   ]
  },
  {
   "cell_type": "code",
   "execution_count": 19,
   "id": "regulated-intellectual",
   "metadata": {},
   "outputs": [
    {
     "data": {
      "text/plain": [
       "__main__.Dachshund"
      ]
     },
     "execution_count": 19,
     "metadata": {},
     "output_type": "execute_result"
    }
   ],
   "source": [
    "type(dog2)"
   ]
  },
  {
   "cell_type": "markdown",
   "id": "superior-talent",
   "metadata": {},
   "source": [
    "We can provide differents barks to the different breeds of dog. In this case we will override the *speak()* method, by defining a method on the child class:"
   ]
  },
  {
   "cell_type": "code",
   "execution_count": 20,
   "id": "gorgeous-cancer",
   "metadata": {},
   "outputs": [],
   "source": [
    "class GermanShepherd(Dog):\n",
    "    def speak(self,sound = 'woof, woof'):\n",
    "        return f\"{self.name} says {sound}\"\n",
    "\n",
    "class Dachshund(Dog):\n",
    "    def speak(self, sound = 'arf, arf'):\n",
    "        return f\"{self.name} says {sound}\"\n",
    "\n",
    "class Bulldog(Dog):\n",
    "    def speak(self, sound = 'gruff, gruff'):\n",
    "        return f\"{self.name} says {sound}\"\n",
    "    \n",
    "dog1 = GermanShepherd('Rin Tin Tin',103,'trained')\n",
    "dog2 = Dachshund('JPD',5,'untrained')\n",
    "dog3 = Bulldog('Butkus',45,'trained')"
   ]
  },
  {
   "cell_type": "code",
   "execution_count": 21,
   "id": "following-coalition",
   "metadata": {},
   "outputs": [
    {
     "data": {
      "text/plain": [
       "'Rin Tin Tin says woof, woof'"
      ]
     },
     "execution_count": 21,
     "metadata": {},
     "output_type": "execute_result"
    }
   ],
   "source": [
    "dog1.speak()"
   ]
  },
  {
   "cell_type": "code",
   "execution_count": 22,
   "id": "indian-wilderness",
   "metadata": {},
   "outputs": [
    {
     "data": {
      "text/plain": [
       "'Butkus says gruff, gruff'"
      ]
     },
     "execution_count": 22,
     "metadata": {},
     "output_type": "execute_result"
    }
   ],
   "source": [
    "dog3.speak()"
   ]
  },
  {
   "cell_type": "code",
   "execution_count": 23,
   "id": "third-princess",
   "metadata": {},
   "outputs": [
    {
     "name": "stdout",
     "output_type": "stream",
     "text": [
      "Butkus, a trained dog is 45 years old\n"
     ]
    }
   ],
   "source": [
    "print(dog3)"
   ]
  },
  {
   "cell_type": "code",
   "execution_count": 24,
   "id": "warming-candy",
   "metadata": {},
   "outputs": [
    {
     "data": {
      "text/plain": [
       "'Butkus says bark, bark'"
      ]
     },
     "execution_count": 24,
     "metadata": {},
     "output_type": "execute_result"
    }
   ],
   "source": [
    "dog3.speak('bark, bark')"
   ]
  },
  {
   "cell_type": "markdown",
   "id": "remarkable-variance",
   "metadata": {},
   "source": [
    "Sometimes we don't want to lose some of the parent methods, so we can access the parent class inside a method of a child by using *super()*:"
   ]
  },
  {
   "cell_type": "code",
   "execution_count": 25,
   "id": "sacred-processing",
   "metadata": {},
   "outputs": [],
   "source": [
    "class GermanShepherd(Dog):\n",
    "    def speak(self, sound):\n",
    "        return super().speak(sound)"
   ]
  },
  {
   "cell_type": "code",
   "execution_count": 26,
   "id": "constitutional-sacrifice",
   "metadata": {},
   "outputs": [],
   "source": [
    "dog4 = GermanShepherd('Blunt', 25, 'trained')"
   ]
  },
  {
   "cell_type": "code",
   "execution_count": 28,
   "id": "controversial-casting",
   "metadata": {},
   "outputs": [
    {
     "data": {
      "text/plain": [
       "'Blunt says Arf'"
      ]
     },
     "execution_count": 28,
     "metadata": {},
     "output_type": "execute_result"
    }
   ],
   "source": [
    "dog4.speak('Arf')"
   ]
  }
 ],
 "metadata": {
  "kernelspec": {
   "display_name": "Python 3",
   "language": "python",
   "name": "python3"
  },
  "language_info": {
   "codemirror_mode": {
    "name": "ipython",
    "version": 3
   },
   "file_extension": ".py",
   "mimetype": "text/x-python",
   "name": "python",
   "nbconvert_exporter": "python",
   "pygments_lexer": "ipython3",
   "version": "3.6.13"
  }
 },
 "nbformat": 4,
 "nbformat_minor": 5
}
